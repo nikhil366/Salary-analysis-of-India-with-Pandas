{
 "metadata": {
  "language_info": {
   "codemirror_mode": {
    "name": "ipython",
    "version": 3
   },
   "file_extension": ".py",
   "mimetype": "text/x-python",
   "name": "python",
   "nbconvert_exporter": "python",
   "pygments_lexer": "ipython3",
   "version": "3.8.5-final"
  },
  "orig_nbformat": 2,
  "kernelspec": {
   "name": "python3",
   "display_name": "Python 3",
   "language": "python"
  }
 },
 "nbformat": 4,
 "nbformat_minor": 2,
 "cells": [
  {
   "cell_type": "code",
   "execution_count": 16,
   "metadata": {},
   "outputs": [],
   "source": [
    "import pandas as pd"
   ]
  },
  {
   "cell_type": "code",
   "execution_count": 18,
   "metadata": {},
   "outputs": [],
   "source": [
    "# read file from system\n",
    "file_path = (\"/media/nikhil/Office/GITHUB Project/Salary-analysis-of-India-with-Pandas/Pandas on India Salary/india_salary_summary.csv\")\n",
    "\n",
    "sal = pd.read_csv(file_path)"
   ]
  },
  {
   "cell_type": "code",
   "execution_count": 19,
   "metadata": {},
   "outputs": [
    {
     "output_type": "execute_result",
     "data": {
      "text/plain": [
       "   Salary/Month        Education               Title Gender    Company Name\n",
       "0     567595.43  Doctoral degree  Research Scientist   Male  Reliance Inds.\n",
       "1     538909.28  Master's degree        Data Analyst   Male             TCS\n",
       "2     335279.91  Master's degree        Data Analyst   Male       HDFC Bank\n",
       "3     332343.61  Master's degree       Data Engineer   Male             ITC\n",
       "4     326373.19  Master's degree   Software Engineer   Male         H D F C"
      ],
      "text/html": "<div>\n<style scoped>\n    .dataframe tbody tr th:only-of-type {\n        vertical-align: middle;\n    }\n\n    .dataframe tbody tr th {\n        vertical-align: top;\n    }\n\n    .dataframe thead th {\n        text-align: right;\n    }\n</style>\n<table border=\"1\" class=\"dataframe\">\n  <thead>\n    <tr style=\"text-align: right;\">\n      <th></th>\n      <th>Salary/Month</th>\n      <th>Education</th>\n      <th>Title</th>\n      <th>Gender</th>\n      <th>Company Name</th>\n    </tr>\n  </thead>\n  <tbody>\n    <tr>\n      <th>0</th>\n      <td>567595.43</td>\n      <td>Doctoral degree</td>\n      <td>Research Scientist</td>\n      <td>Male</td>\n      <td>Reliance Inds.</td>\n    </tr>\n    <tr>\n      <th>1</th>\n      <td>538909.28</td>\n      <td>Master's degree</td>\n      <td>Data Analyst</td>\n      <td>Male</td>\n      <td>TCS</td>\n    </tr>\n    <tr>\n      <th>2</th>\n      <td>335279.91</td>\n      <td>Master's degree</td>\n      <td>Data Analyst</td>\n      <td>Male</td>\n      <td>HDFC Bank</td>\n    </tr>\n    <tr>\n      <th>3</th>\n      <td>332343.61</td>\n      <td>Master's degree</td>\n      <td>Data Engineer</td>\n      <td>Male</td>\n      <td>ITC</td>\n    </tr>\n    <tr>\n      <th>4</th>\n      <td>326373.19</td>\n      <td>Master's degree</td>\n      <td>Software Engineer</td>\n      <td>Male</td>\n      <td>H D F C</td>\n    </tr>\n  </tbody>\n</table>\n</div>"
     },
     "metadata": {},
     "execution_count": 19
    }
   ],
   "source": [
    "sal.head()"
   ]
  },
  {
   "cell_type": "code",
   "execution_count": 20,
   "metadata": {},
   "outputs": [
    {
     "output_type": "stream",
     "name": "stdout",
     "text": [
      "<class 'pandas.core.frame.DataFrame'>\nRangeIndex: 300 entries, 0 to 299\nData columns (total 5 columns):\n #   Column        Non-Null Count  Dtype  \n---  ------        --------------  -----  \n 0   Salary/Month  300 non-null    float64\n 1   Education     300 non-null    object \n 2   Title         300 non-null    object \n 3   Gender        300 non-null    object \n 4   Company Name  293 non-null    object \ndtypes: float64(1), object(4)\nmemory usage: 11.8+ KB\n"
     ]
    }
   ],
   "source": [
    "sal.info()"
   ]
  },
  {
   "cell_type": "code",
   "execution_count": 22,
   "metadata": {},
   "outputs": [
    {
     "output_type": "execute_result",
     "data": {
      "text/plain": [
       "225973.3054"
      ]
     },
     "metadata": {},
     "execution_count": 22
    }
   ],
   "source": [
    "sal['Salary/Month'].mean()"
   ]
  },
  {
   "cell_type": "code",
   "execution_count": 25,
   "metadata": {},
   "outputs": [
    {
     "output_type": "execute_result",
     "data": {
      "text/plain": [
       "count       300.000000\n",
       "mean     225973.305400\n",
       "std       43138.778003\n",
       "min      196886.550000\n",
       "25%      202983.897500\n",
       "50%      213697.540000\n",
       "75%      232866.255000\n",
       "max      567595.430000\n",
       "Name: Salary/Month, dtype: float64"
      ]
     },
     "metadata": {},
     "execution_count": 25
    }
   ],
   "source": [
    "statistical_description = sal['Salary/Month'].describe()\n",
    "statistical_description"
   ]
  },
  {
   "source": [
    "##finding Highest Pay person of all company in this data set."
   ],
   "cell_type": "markdown",
   "metadata": {}
  },
  {
   "cell_type": "code",
   "execution_count": 26,
   "metadata": {},
   "outputs": [
    {
     "output_type": "execute_result",
     "data": {
      "text/plain": [
       "     Salary/Month        Education               Title Gender    Company Name\n",
       "0       567595.43  Doctoral degree  Research Scientist   Male  Reliance Inds.\n",
       "299     567595.43  Master's degree      Data Scientist   Male  GIIT Solutions"
      ],
      "text/html": "<div>\n<style scoped>\n    .dataframe tbody tr th:only-of-type {\n        vertical-align: middle;\n    }\n\n    .dataframe tbody tr th {\n        vertical-align: top;\n    }\n\n    .dataframe thead th {\n        text-align: right;\n    }\n</style>\n<table border=\"1\" class=\"dataframe\">\n  <thead>\n    <tr style=\"text-align: right;\">\n      <th></th>\n      <th>Salary/Month</th>\n      <th>Education</th>\n      <th>Title</th>\n      <th>Gender</th>\n      <th>Company Name</th>\n    </tr>\n  </thead>\n  <tbody>\n    <tr>\n      <th>0</th>\n      <td>567595.43</td>\n      <td>Doctoral degree</td>\n      <td>Research Scientist</td>\n      <td>Male</td>\n      <td>Reliance Inds.</td>\n    </tr>\n    <tr>\n      <th>299</th>\n      <td>567595.43</td>\n      <td>Master's degree</td>\n      <td>Data Scientist</td>\n      <td>Male</td>\n      <td>GIIT Solutions</td>\n    </tr>\n  </tbody>\n</table>\n</div>"
     },
     "metadata": {},
     "execution_count": 26
    }
   ],
   "source": [
    "# max salary of employee in this Dataset\n",
    "sal[sal['Salary/Month'] == sal['Salary/Month'].max()]"
   ]
  },
  {
   "cell_type": "code",
   "execution_count": 33,
   "metadata": {},
   "outputs": [
    {
     "output_type": "execute_result",
     "data": {
      "text/plain": [
       "     Salary/Month          Education               Title  Gender  \\\n",
       "1       538909.28    Master's degree        Data Analyst    Male   \n",
       "2       335279.91    Master's degree        Data Analyst    Male   \n",
       "3       332343.61    Master's degree       Data Engineer    Male   \n",
       "4       326373.19    Master's degree   Software Engineer    Male   \n",
       "5       316285.74  Bachelor's degree      Data Scientist    Male   \n",
       "..            ...                ...                 ...     ...   \n",
       "294     197133.46    Master's degree  Research Scientist    Male   \n",
       "295     197132.12    Master's degree      Data Scientist    Male   \n",
       "296     196892.64    Master's degree      Data Scientist  Female   \n",
       "297     196888.39    Master's degree      Data Scientist    Male   \n",
       "298     196886.55    Master's degree      Data Scientist    Male   \n",
       "\n",
       "        Company Name  \n",
       "1                TCS  \n",
       "2          HDFC Bank  \n",
       "3                ITC  \n",
       "4            H D F C  \n",
       "5     Hind. Unilever  \n",
       "..               ...  \n",
       "294     Nestle India  \n",
       "295  Godrej Consumer  \n",
       "296         Yes Bank  \n",
       "297    Hero Motocorp  \n",
       "298   GIIT Solutions  \n",
       "\n",
       "[298 rows x 5 columns]"
      ],
      "text/html": "<div>\n<style scoped>\n    .dataframe tbody tr th:only-of-type {\n        vertical-align: middle;\n    }\n\n    .dataframe tbody tr th {\n        vertical-align: top;\n    }\n\n    .dataframe thead th {\n        text-align: right;\n    }\n</style>\n<table border=\"1\" class=\"dataframe\">\n  <thead>\n    <tr style=\"text-align: right;\">\n      <th></th>\n      <th>Salary/Month</th>\n      <th>Education</th>\n      <th>Title</th>\n      <th>Gender</th>\n      <th>Company Name</th>\n    </tr>\n  </thead>\n  <tbody>\n    <tr>\n      <th>1</th>\n      <td>538909.28</td>\n      <td>Master's degree</td>\n      <td>Data Analyst</td>\n      <td>Male</td>\n      <td>TCS</td>\n    </tr>\n    <tr>\n      <th>2</th>\n      <td>335279.91</td>\n      <td>Master's degree</td>\n      <td>Data Analyst</td>\n      <td>Male</td>\n      <td>HDFC Bank</td>\n    </tr>\n    <tr>\n      <th>3</th>\n      <td>332343.61</td>\n      <td>Master's degree</td>\n      <td>Data Engineer</td>\n      <td>Male</td>\n      <td>ITC</td>\n    </tr>\n    <tr>\n      <th>4</th>\n      <td>326373.19</td>\n      <td>Master's degree</td>\n      <td>Software Engineer</td>\n      <td>Male</td>\n      <td>H D F C</td>\n    </tr>\n    <tr>\n      <th>5</th>\n      <td>316285.74</td>\n      <td>Bachelor's degree</td>\n      <td>Data Scientist</td>\n      <td>Male</td>\n      <td>Hind. Unilever</td>\n    </tr>\n    <tr>\n      <th>...</th>\n      <td>...</td>\n      <td>...</td>\n      <td>...</td>\n      <td>...</td>\n      <td>...</td>\n    </tr>\n    <tr>\n      <th>294</th>\n      <td>197133.46</td>\n      <td>Master's degree</td>\n      <td>Research Scientist</td>\n      <td>Male</td>\n      <td>Nestle India</td>\n    </tr>\n    <tr>\n      <th>295</th>\n      <td>197132.12</td>\n      <td>Master's degree</td>\n      <td>Data Scientist</td>\n      <td>Male</td>\n      <td>Godrej Consumer</td>\n    </tr>\n    <tr>\n      <th>296</th>\n      <td>196892.64</td>\n      <td>Master's degree</td>\n      <td>Data Scientist</td>\n      <td>Female</td>\n      <td>Yes Bank</td>\n    </tr>\n    <tr>\n      <th>297</th>\n      <td>196888.39</td>\n      <td>Master's degree</td>\n      <td>Data Scientist</td>\n      <td>Male</td>\n      <td>Hero Motocorp</td>\n    </tr>\n    <tr>\n      <th>298</th>\n      <td>196886.55</td>\n      <td>Master's degree</td>\n      <td>Data Scientist</td>\n      <td>Male</td>\n      <td>GIIT Solutions</td>\n    </tr>\n  </tbody>\n</table>\n<p>298 rows × 5 columns</p>\n</div>"
     },
     "metadata": {},
     "execution_count": 33
    }
   ],
   "source": [
    "# finding second highest Salary\n",
    "highest_salary=sal['Salary/Month'].max()\n",
    "highest_salary\n",
    "sal[sal['Salary/Month'] < highest_salary]"
   ]
  },
  {
   "cell_type": "code",
   "execution_count": 41,
   "metadata": {},
   "outputs": [
    {
     "output_type": "execute_result",
     "data": {
      "text/plain": [
       "                         Salary/Month\n",
       "Education                            \n",
       "Bachelor's degree       221381.864940\n",
       "Doctoral degree         228712.898056\n",
       "High School             286347.050000\n",
       "I prefer not to answer  228839.838571\n",
       "Master's degree         230069.447481\n",
       "Professional degree     216737.662368"
      ],
      "text/html": "<div>\n<style scoped>\n    .dataframe tbody tr th:only-of-type {\n        vertical-align: middle;\n    }\n\n    .dataframe tbody tr th {\n        vertical-align: top;\n    }\n\n    .dataframe thead th {\n        text-align: right;\n    }\n</style>\n<table border=\"1\" class=\"dataframe\">\n  <thead>\n    <tr style=\"text-align: right;\">\n      <th></th>\n      <th>Salary/Month</th>\n    </tr>\n    <tr>\n      <th>Education</th>\n      <th></th>\n    </tr>\n  </thead>\n  <tbody>\n    <tr>\n      <th>Bachelor's degree</th>\n      <td>221381.864940</td>\n    </tr>\n    <tr>\n      <th>Doctoral degree</th>\n      <td>228712.898056</td>\n    </tr>\n    <tr>\n      <th>High School</th>\n      <td>286347.050000</td>\n    </tr>\n    <tr>\n      <th>I prefer not to answer</th>\n      <td>228839.838571</td>\n    </tr>\n    <tr>\n      <th>Master's degree</th>\n      <td>230069.447481</td>\n    </tr>\n    <tr>\n      <th>Professional degree</th>\n      <td>216737.662368</td>\n    </tr>\n  </tbody>\n</table>\n</div>"
     },
     "metadata": {},
     "execution_count": 41
    }
   ],
   "source": [
    "# looking for salary according to education\n",
    "type_education = sal.groupby('Education')\n",
    "type_education.mean()"
   ]
  },
  {
   "cell_type": "code",
   "execution_count": 44,
   "metadata": {},
   "outputs": [
    {
     "output_type": "execute_result",
     "data": {
      "text/plain": [
       "                        Salary/Month                                          \\\n",
       "                               count           mean           std        min   \n",
       "Title                                                                          \n",
       "Business Analyst                23.0  221700.079565  30069.023997  197827.17   \n",
       "DBA/Database Engineer            4.0  216207.165000  17928.553675  199292.97   \n",
       "Data Analyst                    20.0  241592.839500  79294.628252  197810.67   \n",
       "Data Engineer                   10.0  219886.871000  39971.975756  197349.04   \n",
       "Data Scientist                  89.0  228529.550449  45735.746398  196886.55   \n",
       "Other                           37.0  223412.529730  22226.225286  197270.60   \n",
       "Product/Project Manager         37.0  221740.267027  23690.617467  198164.45   \n",
       "Research Scientist              23.0  234275.716957  77352.623221  197133.46   \n",
       "Software Engineer               53.0  220735.611887  24521.461154  198005.73   \n",
       "Statistician                     4.0  225055.810000  45375.029243  197423.01   \n",
       "\n",
       "                                                                          \n",
       "                                 25%         50%          75%        max  \n",
       "Title                                                                     \n",
       "Business Analyst         201567.8150  206704.630  230501.2300  303427.55  \n",
       "DBA/Database Engineer    206801.6400  212124.635  221530.1600  241286.42  \n",
       "Data Analyst             202697.3750  211122.045  244380.4625  538909.28  \n",
       "Data Engineer            205705.9475  206940.395  212804.6775  332343.61  \n",
       "Data Scientist           204242.2000  215180.750  236200.9200  567595.43  \n",
       "Other                    207703.2000  215396.500  234848.1100  286213.86  \n",
       "Product/Project Manager  206769.3900  214955.600  230149.2800  307899.46  \n",
       "Research Scientist       202180.9950  207798.790  231479.0850  567595.43  \n",
       "Software Engineer        203260.3300  214988.680  230377.8300  326373.19  \n",
       "Statistician             199721.5575  205064.305  230398.5575  292671.62  "
      ],
      "text/html": "<div>\n<style scoped>\n    .dataframe tbody tr th:only-of-type {\n        vertical-align: middle;\n    }\n\n    .dataframe tbody tr th {\n        vertical-align: top;\n    }\n\n    .dataframe thead tr th {\n        text-align: left;\n    }\n\n    .dataframe thead tr:last-of-type th {\n        text-align: right;\n    }\n</style>\n<table border=\"1\" class=\"dataframe\">\n  <thead>\n    <tr>\n      <th></th>\n      <th colspan=\"8\" halign=\"left\">Salary/Month</th>\n    </tr>\n    <tr>\n      <th></th>\n      <th>count</th>\n      <th>mean</th>\n      <th>std</th>\n      <th>min</th>\n      <th>25%</th>\n      <th>50%</th>\n      <th>75%</th>\n      <th>max</th>\n    </tr>\n    <tr>\n      <th>Title</th>\n      <th></th>\n      <th></th>\n      <th></th>\n      <th></th>\n      <th></th>\n      <th></th>\n      <th></th>\n      <th></th>\n    </tr>\n  </thead>\n  <tbody>\n    <tr>\n      <th>Business Analyst</th>\n      <td>23.0</td>\n      <td>221700.079565</td>\n      <td>30069.023997</td>\n      <td>197827.17</td>\n      <td>201567.8150</td>\n      <td>206704.630</td>\n      <td>230501.2300</td>\n      <td>303427.55</td>\n    </tr>\n    <tr>\n      <th>DBA/Database Engineer</th>\n      <td>4.0</td>\n      <td>216207.165000</td>\n      <td>17928.553675</td>\n      <td>199292.97</td>\n      <td>206801.6400</td>\n      <td>212124.635</td>\n      <td>221530.1600</td>\n      <td>241286.42</td>\n    </tr>\n    <tr>\n      <th>Data Analyst</th>\n      <td>20.0</td>\n      <td>241592.839500</td>\n      <td>79294.628252</td>\n      <td>197810.67</td>\n      <td>202697.3750</td>\n      <td>211122.045</td>\n      <td>244380.4625</td>\n      <td>538909.28</td>\n    </tr>\n    <tr>\n      <th>Data Engineer</th>\n      <td>10.0</td>\n      <td>219886.871000</td>\n      <td>39971.975756</td>\n      <td>197349.04</td>\n      <td>205705.9475</td>\n      <td>206940.395</td>\n      <td>212804.6775</td>\n      <td>332343.61</td>\n    </tr>\n    <tr>\n      <th>Data Scientist</th>\n      <td>89.0</td>\n      <td>228529.550449</td>\n      <td>45735.746398</td>\n      <td>196886.55</td>\n      <td>204242.2000</td>\n      <td>215180.750</td>\n      <td>236200.9200</td>\n      <td>567595.43</td>\n    </tr>\n    <tr>\n      <th>Other</th>\n      <td>37.0</td>\n      <td>223412.529730</td>\n      <td>22226.225286</td>\n      <td>197270.60</td>\n      <td>207703.2000</td>\n      <td>215396.500</td>\n      <td>234848.1100</td>\n      <td>286213.86</td>\n    </tr>\n    <tr>\n      <th>Product/Project Manager</th>\n      <td>37.0</td>\n      <td>221740.267027</td>\n      <td>23690.617467</td>\n      <td>198164.45</td>\n      <td>206769.3900</td>\n      <td>214955.600</td>\n      <td>230149.2800</td>\n      <td>307899.46</td>\n    </tr>\n    <tr>\n      <th>Research Scientist</th>\n      <td>23.0</td>\n      <td>234275.716957</td>\n      <td>77352.623221</td>\n      <td>197133.46</td>\n      <td>202180.9950</td>\n      <td>207798.790</td>\n      <td>231479.0850</td>\n      <td>567595.43</td>\n    </tr>\n    <tr>\n      <th>Software Engineer</th>\n      <td>53.0</td>\n      <td>220735.611887</td>\n      <td>24521.461154</td>\n      <td>198005.73</td>\n      <td>203260.3300</td>\n      <td>214988.680</td>\n      <td>230377.8300</td>\n      <td>326373.19</td>\n    </tr>\n    <tr>\n      <th>Statistician</th>\n      <td>4.0</td>\n      <td>225055.810000</td>\n      <td>45375.029243</td>\n      <td>197423.01</td>\n      <td>199721.5575</td>\n      <td>205064.305</td>\n      <td>230398.5575</td>\n      <td>292671.62</td>\n    </tr>\n  </tbody>\n</table>\n</div>"
     },
     "metadata": {},
     "execution_count": 44
    }
   ],
   "source": [
    "# looking for salary according to Post\n",
    "type_post = sal.groupby('Title')\n",
    "type_post.mean()\n",
    "type_post.describe()"
   ]
  },
  {
   "cell_type": "code",
   "execution_count": null,
   "metadata": {},
   "outputs": [],
   "source": []
  }
 ]
}